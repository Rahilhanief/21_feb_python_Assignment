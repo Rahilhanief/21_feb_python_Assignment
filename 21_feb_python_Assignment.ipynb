{
 "cells": [
  {
   "cell_type": "code",
   "execution_count": 1,
   "id": "15816500-42ba-4b07-bf41-168f877bad6e",
   "metadata": {},
   "outputs": [
    {
     "data": {
      "text/plain": [
       "\"\\nWeb scraping is the process of collecting structured web data in an automated manner. \\nIt's also widely known as web data extraction or web data scraping. Some of the main use cases \\nof web scraping include price monitoring, price intelligence, news monitoring, lead generation,\\nand market research among many others.\\nApplications of web scraping tools\\nMonitoring e-commerce prices.\\nFinding opportunities for investment.\\nAnalyzing social media web data.\\n\""
      ]
     },
     "execution_count": 1,
     "metadata": {},
     "output_type": "execute_result"
    }
   ],
   "source": [
    "## Q No. 1 :\n",
    "\"\"\"\n",
    "Web scraping is the process of collecting structured web data in an automated manner. \n",
    "It's also widely known as web data extraction or web data scraping. Some of the main use cases \n",
    "of web scraping include price monitoring, price intelligence, news monitoring, lead generation,\n",
    "and market research among many others.\n",
    "Applications of web scraping tools\n",
    "Monitoring e-commerce prices.\n",
    "Finding opportunities for investment.\n",
    "Analyzing social media web data.\n",
    "\"\"\""
   ]
  },
  {
   "cell_type": "code",
   "execution_count": 2,
   "id": "3255fa44-7b2c-499d-bd91-1726fae0ad63",
   "metadata": {},
   "outputs": [
    {
     "data": {
      "text/plain": [
       "'\\nThere are many ways to perform web scraping to get data from websites. These include using online services, \\nspecial APIs, or even creating code for web scraping from scratch. Many large websites, such as Google, Twitter,\\nFacebook, StackOverflow, etc. have APIs that allow you to access your data in a structured format\\n'"
      ]
     },
     "execution_count": 2,
     "metadata": {},
     "output_type": "execute_result"
    }
   ],
   "source": [
    "## Q No. 2 :\n",
    "\"\"\"\n",
    "There are many ways to perform web scraping to get data from websites. These include using online services, \n",
    "special APIs, or even creating code for web scraping from scratch. Many large websites, such as Google, Twitter,\n",
    "Facebook, StackOverflow, etc. have APIs that allow you to access your data in a structured format\n",
    "\"\"\""
   ]
  },
  {
   "cell_type": "code",
   "execution_count": 3,
   "id": "14f2e25d-99bc-4b0f-8a8b-fabfc4e27d1b",
   "metadata": {},
   "outputs": [
    {
     "data": {
      "text/plain": [
       "'\\nBeautiful Soup is a Python package for parsing HTML and XML documents (including having malformed markup,\\ni.e. non-closed tags, so named after tag soup).\\nIt creates a parse tree for parsed pages that can be used to extract data from HTML, which is useful for web scraping.\\n'"
      ]
     },
     "execution_count": 3,
     "metadata": {},
     "output_type": "execute_result"
    }
   ],
   "source": [
    "## Q No. 3 :\n",
    "\"\"\"\n",
    "Beautiful Soup is a Python package for parsing HTML and XML documents (including having malformed markup,\n",
    "i.e. non-closed tags, so named after tag soup).\n",
    "It creates a parse tree for parsed pages that can be used to extract data from HTML, which is useful for web scraping.\n",
    "\"\"\""
   ]
  },
  {
   "cell_type": "code",
   "execution_count": 4,
   "id": "4ad9eb72-3bdf-4d32-94f8-8e7982cf4fcf",
   "metadata": {},
   "outputs": [
    {
     "data": {
      "text/plain": [
       "\"\\nFlask is a lightweight framework to build websites. We'll use this to parse our collected data and display \\nit as HTML in a new HTML file. The requests module allows us to send http requests to the website we want to scrape.\\nThe first line imports the Flask class and the render_template method from the flask library.\\n\""
      ]
     },
     "execution_count": 4,
     "metadata": {},
     "output_type": "execute_result"
    }
   ],
   "source": [
    "## Q No. 4 :\n",
    "\"\"\"\n",
    "Flask is a lightweight framework to build websites. We'll use this to parse our collected data and display \n",
    "it as HTML in a new HTML file. The requests module allows us to send http requests to the website we want to scrape.\n",
    "The first line imports the Flask class and the render_template method from the flask library.\n",
    "\"\"\""
   ]
  },
  {
   "cell_type": "code",
   "execution_count": 5,
   "id": "0ff7347a-5801-4138-9737-49481c3431f7",
   "metadata": {},
   "outputs": [
    {
     "data": {
      "text/plain": [
       "'\\n1. Codepipeline\\n2. Elastic Beanstack\\n\\nAWS CodePipeline is a continuous delivery service that automates the build, test,\\nand deploy phases of your release process.\\nElastic Beanstalk is a service for deploying and scaling web applications and services.\\nUpload your code and Elastic Beanstalk automatically handles the deployment—from capacity provisioning,\\nload balancing, and auto scaling to application health monitoring.\\n'"
      ]
     },
     "execution_count": 5,
     "metadata": {},
     "output_type": "execute_result"
    }
   ],
   "source": [
    "## Q No. 5 :\n",
    "\"\"\"\n",
    "1. Codepipeline\n",
    "2. Elastic Beanstack\n",
    "\n",
    "AWS CodePipeline is a continuous delivery service that automates the build, test,\n",
    "and deploy phases of your release process.\n",
    "Elastic Beanstalk is a service for deploying and scaling web applications and services.\n",
    "Upload your code and Elastic Beanstalk automatically handles the deployment—from capacity provisioning,\n",
    "load balancing, and auto scaling to application health monitoring.\n",
    "\"\"\""
   ]
  }
 ],
 "metadata": {
  "kernelspec": {
   "display_name": "Python 3 (ipykernel)",
   "language": "python",
   "name": "python3"
  },
  "language_info": {
   "codemirror_mode": {
    "name": "ipython",
    "version": 3
   },
   "file_extension": ".py",
   "mimetype": "text/x-python",
   "name": "python",
   "nbconvert_exporter": "python",
   "pygments_lexer": "ipython3",
   "version": "3.10.8"
  }
 },
 "nbformat": 4,
 "nbformat_minor": 5
}
